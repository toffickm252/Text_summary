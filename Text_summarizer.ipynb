{
 "nbformat": 4,
 "nbformat_minor": 2,
 "metadata": {
  "language_info": {
   "name": "python",
   "codemirror_mode": {
    "name": "ipython",
    "version": 3
   }
  },
  "orig_nbformat": 2,
  "file_extension": ".py",
  "mimetype": "text/x-python",
  "name": "python",
  "npconvert_exporter": "python",
  "pygments_lexer": "ipython3",
  "version": 3
 },
 "cells": [
  {
   "cell_type": "markdown",
   "metadata": {},
   "source": [
    "# Easy_text summarizer\n",
    "***This is built on news reviews from a popular london news paper***\n",
    "Problem_statement\n",
    "> Many CEOs, because of their busy schedules don't always find time to catch up on sports news from their favourite teams and even world news. \n",
    "This models whole idea, is to produce a summary of every article or text at a high accuracy.\n",
    "\n",
    "### Importing data and performing simple data checks"
   ]
  },
  {
   "cell_type": "code",
   "execution_count": 3,
   "metadata": {},
   "outputs": [],
   "source": [
    "import numpy as np\n",
    "import pandas as pd"
   ]
  },
  {
   "cell_type": "code",
   "execution_count": null,
   "metadata": {},
   "outputs": [],
   "source": [
    "data=pd.read_csv("
   ]
  }
 ]
}